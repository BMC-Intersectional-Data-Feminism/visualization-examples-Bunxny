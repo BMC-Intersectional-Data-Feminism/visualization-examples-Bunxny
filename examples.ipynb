import pandas as pd
import numpy as np
import matplotlib.pyplot
import seaborn as sns

df = pd.reas_csv('spotify.csv')
df
//x,y
plt.line(df['Date'],df['Shape of You'])

fig, ax = plt.subplots()
ax.plot(df['Date'],df['Shape of You'])

xticks = list(df['Date'])
ax.set_xticks(df['Date'], df['Date'], rotation = 'verticle')

plt.plot(df['Date'],df['desposito'], lable = 'd')

plt.plot(df['Date'],df['Shape of You'], lable = 's')
plt.legend()
plt.ylable('Date')
plt.ylable('Streams')
